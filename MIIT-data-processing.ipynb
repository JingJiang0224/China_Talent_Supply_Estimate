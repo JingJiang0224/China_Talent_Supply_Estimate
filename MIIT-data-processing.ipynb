{
 "cells": [
  {
   "cell_type": "code",
   "execution_count": 1,
   "id": "c0cfce7e-a5eb-49fa-9d43-0783b7bc33ab",
   "metadata": {},
   "outputs": [],
   "source": [
    "import pandas as pd"
   ]
  },
  {
   "cell_type": "code",
   "execution_count": 2,
   "id": "bb0e198c-ed30-417e-bc3b-df8cb28a702f",
   "metadata": {},
   "outputs": [],
   "source": [
    "def excel_to_csv(input_excel_path, output_csv_path):\n",
    "    # Load the Excel file\n",
    "    df = pd.read_excel(input_excel_path)\n",
    "\n",
    "    # Save to CSV with UTF-8 encoding\n",
    "    df.to_csv(output_csv_path, encoding='utf-8', index=False)\n",
    "\n",
    "# Example usage\n",
    "excel_to_csv('MIIT-Data.xlsx', 'MIIT-Data.csv')"
   ]
  },
  {
   "cell_type": "code",
   "execution_count": 3,
   "id": "fa3ef628-0a59-44ad-b49f-3ed0314b4fc3",
   "metadata": {},
   "outputs": [],
   "source": [
    "# reading the CSV file\n",
    "df = pd.read_csv('MIIT-Data.csv')"
   ]
  },
  {
   "cell_type": "code",
   "execution_count": 4,
   "id": "405a33d3-cd01-4279-a6c0-1abe70c6b92d",
   "metadata": {},
   "outputs": [
    {
     "data": {
      "text/html": [
       "<div>\n",
       "<style scoped>\n",
       "    .dataframe tbody tr th:only-of-type {\n",
       "        vertical-align: middle;\n",
       "    }\n",
       "\n",
       "    .dataframe tbody tr th {\n",
       "        vertical-align: top;\n",
       "    }\n",
       "\n",
       "    .dataframe thead th {\n",
       "        text-align: right;\n",
       "    }\n",
       "</style>\n",
       "<table border=\"1\" class=\"dataframe\">\n",
       "  <thead>\n",
       "    <tr style=\"text-align: right;\">\n",
       "      <th></th>\n",
       "      <th>serial number</th>\n",
       "      <th>Company</th>\n",
       "      <th>The location of the recycling service outlet</th>\n",
       "      <th>The name of the recycling service location</th>\n",
       "      <th>address</th>\n",
       "      <th>Short_Company_Name</th>\n",
       "      <th>City</th>\n",
       "    </tr>\n",
       "  </thead>\n",
       "  <tbody>\n",
       "    <tr>\n",
       "      <th>0</th>\n",
       "      <td>1</td>\n",
       "      <td>BYD Automobile Co., Ltd</td>\n",
       "      <td>Tongzhou District, Beijing</td>\n",
       "      <td>Beijing BYD Mould Co., Ltd</td>\n",
       "      <td>No. 1, Kechuang East &lt;&gt;th Street, Tongzhou Dis...</td>\n",
       "      <td>BYD Automobile Co.,</td>\n",
       "      <td>Beijing</td>\n",
       "    </tr>\n",
       "    <tr>\n",
       "      <th>1</th>\n",
       "      <td>2</td>\n",
       "      <td>BYD Automobile Co., Ltd</td>\n",
       "      <td>Wuqing District, Tianjin</td>\n",
       "      <td>Tianjin BYD Automobile Co., Ltd</td>\n",
       "      <td>No. 2, Tianfu Road, Auto Parts Industrial Park...</td>\n",
       "      <td>BYD Automobile Co.,</td>\n",
       "      <td>Tianjin</td>\n",
       "    </tr>\n",
       "    <tr>\n",
       "      <th>2</th>\n",
       "      <td>3</td>\n",
       "      <td>BYD Automobile Co., Ltd</td>\n",
       "      <td>Taiyuan City, Shanxi Province</td>\n",
       "      <td>Taiyuan BYD Automobile Co., Ltd</td>\n",
       "      <td>No. 301, Tanghuai Road, Taiyuan Tanghuai Park,...</td>\n",
       "      <td>BYD Automobile Co.,</td>\n",
       "      <td>Taiyuan</td>\n",
       "    </tr>\n",
       "    <tr>\n",
       "      <th>3</th>\n",
       "      <td>4</td>\n",
       "      <td>BYD Automobile Co., Ltd</td>\n",
       "      <td>Songjiang District, Shanghai</td>\n",
       "      <td>Shanghai BYD Co., Ltd</td>\n",
       "      <td>No. 999, Xiangjing Road, Chedun Town, Songjian...</td>\n",
       "      <td>BYD Automobile Co.,</td>\n",
       "      <td>Shanghai</td>\n",
       "    </tr>\n",
       "    <tr>\n",
       "      <th>4</th>\n",
       "      <td>5</td>\n",
       "      <td>BYD Automobile Co., Ltd</td>\n",
       "      <td>Hangzhou City, Zhejiang Province</td>\n",
       "      <td>Hangzhou BYD Automobile Co., Ltd</td>\n",
       "      <td>No. 99-1, Qihang Road, Renhe Street, Yuhang Di...</td>\n",
       "      <td>BYD Automobile Co.,</td>\n",
       "      <td>Hangzhou</td>\n",
       "    </tr>\n",
       "  </tbody>\n",
       "</table>\n",
       "</div>"
      ],
      "text/plain": [
       "   serial number                  Company  \\\n",
       "0              1  BYD Automobile Co., Ltd   \n",
       "1              2  BYD Automobile Co., Ltd   \n",
       "2              3  BYD Automobile Co., Ltd   \n",
       "3              4  BYD Automobile Co., Ltd   \n",
       "4              5  BYD Automobile Co., Ltd   \n",
       "\n",
       "  The location of the recycling service outlet  \\\n",
       "0                   Tongzhou District, Beijing   \n",
       "1                     Wuqing District, Tianjin   \n",
       "2                Taiyuan City, Shanxi Province   \n",
       "3                 Songjiang District, Shanghai   \n",
       "4             Hangzhou City, Zhejiang Province   \n",
       "\n",
       "  The name of the recycling service location  \\\n",
       "0                 Beijing BYD Mould Co., Ltd   \n",
       "1            Tianjin BYD Automobile Co., Ltd   \n",
       "2            Taiyuan BYD Automobile Co., Ltd   \n",
       "3                      Shanghai BYD Co., Ltd   \n",
       "4           Hangzhou BYD Automobile Co., Ltd   \n",
       "\n",
       "                                             address   Short_Company_Name  \\\n",
       "0  No. 1, Kechuang East <>th Street, Tongzhou Dis...  BYD Automobile Co.,   \n",
       "1  No. 2, Tianfu Road, Auto Parts Industrial Park...  BYD Automobile Co.,   \n",
       "2  No. 301, Tanghuai Road, Taiyuan Tanghuai Park,...  BYD Automobile Co.,   \n",
       "3  No. 999, Xiangjing Road, Chedun Town, Songjian...  BYD Automobile Co.,   \n",
       "4  No. 99-1, Qihang Road, Renhe Street, Yuhang Di...  BYD Automobile Co.,   \n",
       "\n",
       "       City  \n",
       "0   Beijing  \n",
       "1   Tianjin  \n",
       "2   Taiyuan  \n",
       "3  Shanghai  \n",
       "4  Hangzhou  "
      ]
     },
     "execution_count": 4,
     "metadata": {},
     "output_type": "execute_result"
    }
   ],
   "source": [
    "df.head()"
   ]
  },
  {
   "cell_type": "code",
   "execution_count": 6,
   "id": "af6b7214-7625-4217-8f21-773eaae01535",
   "metadata": {},
   "outputs": [
    {
     "data": {
      "text/plain": [
       "16046"
      ]
     },
     "execution_count": 6,
     "metadata": {},
     "output_type": "execute_result"
    }
   ],
   "source": [
    "# count total columns\n",
    "len(df)\n"
   ]
  },
  {
   "cell_type": "code",
   "execution_count": 7,
   "id": "8da582d8-727b-4490-8fcd-1a192bad06b7",
   "metadata": {},
   "outputs": [],
   "source": [
    "# drop duplicate\n",
    "df1 = df.drop_duplicates()"
   ]
  },
  {
   "cell_type": "code",
   "execution_count": 8,
   "id": "de848da8-52d3-4bac-a9bc-65feeec3aec8",
   "metadata": {},
   "outputs": [
    {
     "data": {
      "text/plain": [
       "16046"
      ]
     },
     "execution_count": 8,
     "metadata": {},
     "output_type": "execute_result"
    }
   ],
   "source": [
    "len(df1)"
   ]
  },
  {
   "cell_type": "code",
   "execution_count": null,
   "id": "e2fadcc7-e99f-45e2-97f7-ceb1f74ab2d3",
   "metadata": {},
   "outputs": [],
   "source": []
  },
  {
   "cell_type": "code",
   "execution_count": null,
   "id": "cd983b79-cc6d-4b33-9693-f0505eb2738c",
   "metadata": {},
   "outputs": [],
   "source": []
  }
 ],
 "metadata": {
  "kernelspec": {
   "display_name": "Python 3 (ipykernel)",
   "language": "python",
   "name": "python3"
  },
  "language_info": {
   "codemirror_mode": {
    "name": "ipython",
    "version": 3
   },
   "file_extension": ".py",
   "mimetype": "text/x-python",
   "name": "python",
   "nbconvert_exporter": "python",
   "pygments_lexer": "ipython3",
   "version": "3.11.7"
  }
 },
 "nbformat": 4,
 "nbformat_minor": 5
}
